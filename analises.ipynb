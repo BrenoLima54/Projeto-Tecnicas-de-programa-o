{
 "cells": [
  {
   "cell_type": "code",
   "execution_count": null,
   "metadata": {},
   "outputs": [],
   "source": []
  },
  {
   "cell_type": "code",
   "execution_count": 1,
   "metadata": {},
   "outputs": [],
   "source": [
    "from dataquality import DataQuality"
   ]
  },
  {
   "cell_type": "code",
   "execution_count": 2,
   "metadata": {},
   "outputs": [],
   "source": [
    "df = DataQuality(\"datasets/penguins.csv\")"
   ]
  },
  {
   "cell_type": "code",
   "execution_count": 3,
   "metadata": {},
   "outputs": [
    {
     "data": {
      "text/markdown": [
       "### Dados unicos"
      ]
     },
     "metadata": {},
     "output_type": "display_data"
    },
    {
     "data": {
      "text/markdown": [
       "### Quantidade total de dados unicos: 401"
      ]
     },
     "metadata": {},
     "output_type": "display_data"
    },
    {
     "name": "stdout",
     "output_type": "stream",
     "text": [
      "╒═══════════════════╤══════════════╤═══════════════════╕\n",
      "│ Coluna            │   Quantidade │   Frequências (%) │\n",
      "╞═══════════════════╪══════════════╪═══════════════════╡\n",
      "│ species           │            3 │              0.75 │\n",
      "├───────────────────┼──────────────┼───────────────────┤\n",
      "│ island            │            3 │              0.75 │\n",
      "├───────────────────┼──────────────┼───────────────────┤\n",
      "│ bill_length_mm    │          164 │             40.9  │\n",
      "├───────────────────┼──────────────┼───────────────────┤\n",
      "│ bill_depth_mm     │           80 │             19.95 │\n",
      "├───────────────────┼──────────────┼───────────────────┤\n",
      "│ flipper_length_mm │           55 │             13.72 │\n",
      "├───────────────────┼──────────────┼───────────────────┤\n",
      "│ body_mass_g       │           94 │             23.44 │\n",
      "├───────────────────┼──────────────┼───────────────────┤\n",
      "│ sex               │            2 │              0.5  │\n",
      "╘═══════════════════╧══════════════╧═══════════════════╛\n"
     ]
    }
   ],
   "source": [
    "df.count_unique()"
   ]
  }
 ],
 "metadata": {
  "kernelspec": {
   "display_name": "Python 3",
   "language": "python",
   "name": "python3"
  },
  "language_info": {
   "codemirror_mode": {
    "name": "ipython",
    "version": 3
   },
   "file_extension": ".py",
   "mimetype": "text/x-python",
   "name": "python",
   "nbconvert_exporter": "python",
   "pygments_lexer": "ipython3",
   "version": "3.12.4"
  }
 },
 "nbformat": 4,
 "nbformat_minor": 2
}
