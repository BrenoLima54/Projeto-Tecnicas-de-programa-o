{
 "cells": [
  {
   "cell_type": "code",
   "execution_count": null,
   "metadata": {},
   "outputs": [],
   "source": []
  },
  {
   "cell_type": "code",
   "execution_count": 6,
   "metadata": {},
   "outputs": [],
   "source": [
    "from dataquality import DataQuality"
   ]
  },
  {
   "cell_type": "code",
   "execution_count": 7,
   "metadata": {},
   "outputs": [],
   "source": [
    "df = DataQuality(\"datasets/penguins.csv\")"
   ]
  },
  {
   "cell_type": "code",
   "execution_count": 8,
   "metadata": {},
   "outputs": [
    {
     "data": {
      "text/markdown": [
       "# **Relatório de Análises Genéricas**"
      ]
     },
     "metadata": {},
     "output_type": "display_data"
    },
    {
     "data": {
      "text/markdown": [
       "### Informações Gerais:"
      ]
     },
     "metadata": {},
     "output_type": "display_data"
    },
    {
     "data": {
      "text/markdown": [
       "- **Linhas:** 344"
      ]
     },
     "metadata": {},
     "output_type": "display_data"
    },
    {
     "data": {
      "text/markdown": [
       "- **Colunas:** 7"
      ]
     },
     "metadata": {},
     "output_type": "display_data"
    },
    {
     "data": {
      "text/markdown": [
       "#### Colunas Categóricas:"
      ]
     },
     "metadata": {},
     "output_type": "display_data"
    },
    {
     "data": {
      "text/markdown": [
       "- species"
      ]
     },
     "metadata": {},
     "output_type": "display_data"
    },
    {
     "data": {
      "text/markdown": [
       "- island"
      ]
     },
     "metadata": {},
     "output_type": "display_data"
    },
    {
     "data": {
      "text/markdown": [
       "- sex"
      ]
     },
     "metadata": {},
     "output_type": "display_data"
    },
    {
     "data": {
      "text/markdown": [
       "#### Colunas Numéricas:"
      ]
     },
     "metadata": {},
     "output_type": "display_data"
    },
    {
     "data": {
      "text/markdown": [
       "- bill_length_mm"
      ]
     },
     "metadata": {},
     "output_type": "display_data"
    },
    {
     "data": {
      "text/markdown": [
       "- bill_depth_mm"
      ]
     },
     "metadata": {},
     "output_type": "display_data"
    },
    {
     "data": {
      "text/markdown": [
       "- flipper_length_mm"
      ]
     },
     "metadata": {},
     "output_type": "display_data"
    },
    {
     "data": {
      "text/markdown": [
       "- body_mass_g"
      ]
     },
     "metadata": {},
     "output_type": "display_data"
    },
    {
     "data": {
      "text/markdown": [
       "### Primeiras 5 linhas:"
      ]
     },
     "metadata": {},
     "output_type": "display_data"
    },
    {
     "name": "stdout",
     "output_type": "stream",
     "text": [
      "╒════╤═════════╤═══════════╤═══════════╤══════════════════╤═════════════════╤═════════════════════╤═══════════════╤════════╕\n",
      "│    │   index │ species   │ island    │   bill_length_mm │   bill_depth_mm │   flipper_length_mm │   body_mass_g │ sex    │\n",
      "╞════╪═════════╪═══════════╪═══════════╪══════════════════╪═════════════════╪═════════════════════╪═══════════════╪════════╡\n",
      "│  0 │       0 │ Adelie    │ Torgersen │             39.1 │            18.7 │                 181 │          3750 │ MALE   │\n",
      "├────┼─────────┼───────────┼───────────┼──────────────────┼─────────────────┼─────────────────────┼───────────────┼────────┤\n",
      "│  1 │       1 │ Adelie    │ Torgersen │             39.5 │            17.4 │                 186 │          3800 │ FEMALE │\n",
      "├────┼─────────┼───────────┼───────────┼──────────────────┼─────────────────┼─────────────────────┼───────────────┼────────┤\n",
      "│  2 │       2 │ Adelie    │ Torgersen │             40.3 │            18   │                 195 │          3250 │ FEMALE │\n",
      "├────┼─────────┼───────────┼───────────┼──────────────────┼─────────────────┼─────────────────────┼───────────────┼────────┤\n",
      "│  3 │       3 │ Adelie    │ Torgersen │            nan   │           nan   │                 nan │           nan │ nan    │\n",
      "├────┼─────────┼───────────┼───────────┼──────────────────┼─────────────────┼─────────────────────┼───────────────┼────────┤\n",
      "│  4 │       4 │ Adelie    │ Torgersen │             36.7 │            19.3 │                 193 │          3450 │ FEMALE │\n",
      "╘════╧═════════╧═══════════╧═══════════╧══════════════════╧═════════════════╧═════════════════════╧═══════════════╧════════╛\n"
     ]
    },
    {
     "data": {
      "text/markdown": [
       "### Últimas 5 linhas:"
      ]
     },
     "metadata": {},
     "output_type": "display_data"
    },
    {
     "name": "stdout",
     "output_type": "stream",
     "text": [
      "╒═════╤═══════════╤══════════╤══════════════════╤═════════════════╤═════════════════════╤═══════════════╤════════╕\n",
      "│     │ species   │ island   │   bill_length_mm │   bill_depth_mm │   flipper_length_mm │   body_mass_g │ sex    │\n",
      "╞═════╪═══════════╪══════════╪══════════════════╪═════════════════╪═════════════════════╪═══════════════╪════════╡\n",
      "│ 339 │ Gentoo    │ Biscoe   │            nan   │           nan   │                 nan │           nan │ nan    │\n",
      "├─────┼───────────┼──────────┼──────────────────┼─────────────────┼─────────────────────┼───────────────┼────────┤\n",
      "│ 340 │ Gentoo    │ Biscoe   │             46.8 │            14.3 │                 215 │          4850 │ FEMALE │\n",
      "├─────┼───────────┼──────────┼──────────────────┼─────────────────┼─────────────────────┼───────────────┼────────┤\n",
      "│ 341 │ Gentoo    │ Biscoe   │             50.4 │            15.7 │                 222 │          5750 │ MALE   │\n",
      "├─────┼───────────┼──────────┼──────────────────┼─────────────────┼─────────────────────┼───────────────┼────────┤\n",
      "│ 342 │ Gentoo    │ Biscoe   │             45.2 │            14.8 │                 212 │          5200 │ FEMALE │\n",
      "├─────┼───────────┼──────────┼──────────────────┼─────────────────┼─────────────────────┼───────────────┼────────┤\n",
      "│ 343 │ Gentoo    │ Biscoe   │             49.9 │            16.1 │                 213 │          5400 │ MALE   │\n",
      "╘═════╧═══════════╧══════════╧══════════════════╧═════════════════╧═════════════════════╧═══════════════╧════════╛\n"
     ]
    },
    {
     "data": {
      "text/markdown": [
       "### Amostra de 5 linhas:"
      ]
     },
     "metadata": {},
     "output_type": "display_data"
    },
    {
     "name": "stdout",
     "output_type": "stream",
     "text": [
      "╒═════╤═══════════╤══════════╤══════════════════╤═════════════════╤═════════════════════╤═══════════════╤════════╕\n",
      "│     │ species   │ island   │   bill_length_mm │   bill_depth_mm │   flipper_length_mm │   body_mass_g │ sex    │\n",
      "╞═════╪═══════════╪══════════╪══════════════════╪═════════════════╪═════════════════════╪═══════════════╪════════╡\n",
      "│ 194 │ Chinstrap │ Dream    │             50.9 │            19.1 │                 196 │          3550 │ MALE   │\n",
      "├─────┼───────────┼──────────┼──────────────────┼─────────────────┼─────────────────────┼───────────────┼────────┤\n",
      "│ 157 │ Chinstrap │ Dream    │             45.2 │            17.8 │                 198 │          3950 │ FEMALE │\n",
      "├─────┼───────────┼──────────┼──────────────────┼─────────────────┼─────────────────────┼───────────────┼────────┤\n",
      "│ 225 │ Gentoo    │ Biscoe   │             46.5 │            13.5 │                 210 │          4550 │ FEMALE │\n",
      "├─────┼───────────┼──────────┼──────────────────┼─────────────────┼─────────────────────┼───────────────┼────────┤\n",
      "│ 208 │ Chinstrap │ Dream    │             45.2 │            16.6 │                 191 │          3250 │ FEMALE │\n",
      "├─────┼───────────┼──────────┼──────────────────┼─────────────────┼─────────────────────┼───────────────┼────────┤\n",
      "│ 318 │ Gentoo    │ Biscoe   │             48.4 │            14.4 │                 203 │          4625 │ FEMALE │\n",
      "╘═════╧═══════════╧══════════╧══════════════════╧═════════════════╧═════════════════════╧═══════════════╧════════╛\n"
     ]
    },
    {
     "data": {
      "text/markdown": [
       "### Dados nulos"
      ]
     },
     "metadata": {},
     "output_type": "display_data"
    },
    {
     "data": {
      "text/markdown": [
       "#### Quantidade total de dados nulos: 19"
      ]
     },
     "metadata": {},
     "output_type": "display_data"
    },
    {
     "name": "stdout",
     "output_type": "stream",
     "text": [
      "╒════╤═══════════════════╤══════════════╤══════════════════╕\n",
      "│    │ Coluna            │   Quantidade │   Frequência (%) │\n",
      "╞════╪═══════════════════╪══════════════╪══════════════════╡\n",
      "│  2 │ bill_length_mm    │            2 │            10.53 │\n",
      "├────┼───────────────────┼──────────────┼──────────────────┤\n",
      "│  3 │ bill_depth_mm     │            2 │            10.53 │\n",
      "├────┼───────────────────┼──────────────┼──────────────────┤\n",
      "│  4 │ flipper_length_mm │            2 │            10.53 │\n",
      "├────┼───────────────────┼──────────────┼──────────────────┤\n",
      "│  5 │ body_mass_g       │            2 │            10.53 │\n",
      "├────┼───────────────────┼──────────────┼──────────────────┤\n",
      "│  6 │ sex               │           11 │            57.89 │\n",
      "╘════╧═══════════════════╧══════════════╧══════════════════╛\n"
     ]
    },
    {
     "data": {
      "text/markdown": [
       "### Dados unicos"
      ]
     },
     "metadata": {},
     "output_type": "display_data"
    },
    {
     "data": {
      "text/markdown": [
       "### Quantidade total de dados unicos: 401"
      ]
     },
     "metadata": {},
     "output_type": "display_data"
    },
    {
     "name": "stdout",
     "output_type": "stream",
     "text": [
      "╒═══════════════════╤══════════════╤═══════════════════╕\n",
      "│ Coluna            │   Quantidade │   Frequências (%) │\n",
      "╞═══════════════════╪══════════════╪═══════════════════╡\n",
      "│ species           │            3 │              0.75 │\n",
      "├───────────────────┼──────────────┼───────────────────┤\n",
      "│ island            │            3 │              0.75 │\n",
      "├───────────────────┼──────────────┼───────────────────┤\n",
      "│ bill_length_mm    │          164 │             40.9  │\n",
      "├───────────────────┼──────────────┼───────────────────┤\n",
      "│ bill_depth_mm     │           80 │             19.95 │\n",
      "├───────────────────┼──────────────┼───────────────────┤\n",
      "│ flipper_length_mm │           55 │             13.72 │\n",
      "├───────────────────┼──────────────┼───────────────────┤\n",
      "│ body_mass_g       │           94 │             23.44 │\n",
      "├───────────────────┼──────────────┼───────────────────┤\n",
      "│ sex               │            2 │              0.5  │\n",
      "╘═══════════════════╧══════════════╧═══════════════════╛\n"
     ]
    },
    {
     "data": {
      "text/markdown": [
       "### Dados mais comuns por coluna"
      ]
     },
     "metadata": {},
     "output_type": "display_data"
    },
    {
     "data": {
      "text/markdown": [
       " - **species:** Adelie"
      ]
     },
     "metadata": {},
     "output_type": "display_data"
    },
    {
     "data": {
      "text/markdown": [
       " - **island:** Biscoe"
      ]
     },
     "metadata": {},
     "output_type": "display_data"
    },
    {
     "data": {
      "text/markdown": [
       " - **sex:** MALE"
      ]
     },
     "metadata": {},
     "output_type": "display_data"
    },
    {
     "data": {
      "text/markdown": [
       "### bill_length_mm - Coluna Numérica"
      ]
     },
     "metadata": {},
     "output_type": "display_data"
    },
    {
     "name": "stdout",
     "output_type": "stream",
     "text": [
      "╒════╤═════════╤══════════════════╕\n",
      "│    │ index   │   bill_length_mm │\n",
      "╞════╪═════════╪══════════════════╡\n",
      "│  0 │ count   │           342    │\n",
      "├────┼─────────┼──────────────────┤\n",
      "│  1 │ mean    │            43.92 │\n",
      "├────┼─────────┼──────────────────┤\n",
      "│  2 │ std     │             5.46 │\n",
      "├────┼─────────┼──────────────────┤\n",
      "│  3 │ min     │            32.1  │\n",
      "├────┼─────────┼──────────────────┤\n",
      "│  4 │ 25%     │            39.22 │\n",
      "├────┼─────────┼──────────────────┤\n",
      "│  5 │ 50%     │            44.45 │\n",
      "├────┼─────────┼──────────────────┤\n",
      "│  6 │ 75%     │            48.5  │\n",
      "├────┼─────────┼──────────────────┤\n",
      "│  7 │ max     │            59.6  │\n",
      "╘════╧═════════╧══════════════════╛\n"
     ]
    },
    {
     "data": {
      "image/png": "[encoded data removed]",
      "text/plain": [
       "<Figure size 640x480 with 1 Axes>"
      ]
     },
     "metadata": {},
     "output_type": "display_data"
    },
    {
     "data": {
      "text/markdown": [
       "### bill_depth_mm - Coluna Numérica"
      ]
     },
     "metadata": {},
     "output_type": "display_data"
    },
    {
     "name": "stdout",
     "output_type": "stream",
     "text": [
      "╒════╤═════════╤═════════════════╕\n",
      "│    │ index   │   bill_depth_mm │\n",
      "╞════╪═════════╪═════════════════╡\n",
      "│  0 │ count   │          342    │\n",
      "├────┼─────────┼─────────────────┤\n",
      "│  1 │ mean    │           17.15 │\n",
      "├────┼─────────┼─────────────────┤\n",
      "│  2 │ std     │            1.97 │\n",
      "├────┼─────────┼─────────────────┤\n",
      "│  3 │ min     │           13.1  │\n",
      "├────┼─────────┼─────────────────┤\n",
      "│  4 │ 25%     │           15.6  │\n",
      "├────┼─────────┼─────────────────┤\n",
      "│  5 │ 50%     │           17.3  │\n",
      "├────┼─────────┼─────────────────┤\n",
      "│  6 │ 75%     │           18.7  │\n",
      "├────┼─────────┼─────────────────┤\n",
      "│  7 │ max     │           21.5  │\n",
      "╘════╧═════════╧═════════════════╛\n"
     ]
    },
    {
     "data": {
      "image/png": "[encoded data removed]",
      "text/plain": [
       "<Figure size 640x480 with 1 Axes>"
      ]
     },
     "metadata": {},
     "output_type": "display_data"
    },
    {
     "data": {
      "text/markdown": [
       "### flipper_length_mm - Coluna Numérica"
      ]
     },
     "metadata": {},
     "output_type": "display_data"
    },
    {
     "name": "stdout",
     "output_type": "stream",
     "text": [
      "╒════╤═════════╤═════════════════════╕\n",
      "│    │ index   │   flipper_length_mm │\n",
      "╞════╪═════════╪═════════════════════╡\n",
      "│  0 │ count   │              342    │\n",
      "├────┼─────────┼─────────────────────┤\n",
      "│  1 │ mean    │              200.92 │\n",
      "├────┼─────────┼─────────────────────┤\n",
      "│  2 │ std     │               14.06 │\n",
      "├────┼─────────┼─────────────────────┤\n",
      "│  3 │ min     │              172    │\n",
      "├────┼─────────┼─────────────────────┤\n",
      "│  4 │ 25%     │              190    │\n",
      "├────┼─────────┼─────────────────────┤\n",
      "│  5 │ 50%     │              197    │\n",
      "├────┼─────────┼─────────────────────┤\n",
      "│  6 │ 75%     │              213    │\n",
      "├────┼─────────┼─────────────────────┤\n",
      "│  7 │ max     │              231    │\n",
      "╘════╧═════════╧═════════════════════╛\n"
     ]
    },
    {
     "data": {
      "image/png": "[encoded data removed]",
      "text/plain": [
       "<Figure size 640x480 with 1 Axes>"
      ]
     },
     "metadata": {},
     "output_type": "display_data"
    },
    {
     "data": {
      "text/markdown": [
       "### body_mass_g - Coluna Numérica"
      ]
     },
     "metadata": {},
     "output_type": "display_data"
    },
    {
     "name": "stdout",
     "output_type": "stream",
     "text": [
      "╒════╤═════════╤═══════════════╕\n",
      "│    │ index   │   body_mass_g │\n",
      "╞════╪═════════╪═══════════════╡\n",
      "│  0 │ count   │        342    │\n",
      "├────┼─────────┼───────────────┤\n",
      "│  1 │ mean    │       4201.75 │\n",
      "├────┼─────────┼───────────────┤\n",
      "│  2 │ std     │        801.95 │\n",
      "├────┼─────────┼───────────────┤\n",
      "│  3 │ min     │       2700    │\n",
      "├────┼─────────┼───────────────┤\n",
      "│  4 │ 25%     │       3550    │\n",
      "├────┼─────────┼───────────────┤\n",
      "│  5 │ 50%     │       4050    │\n",
      "├────┼─────────┼───────────────┤\n",
      "│  6 │ 75%     │       4750    │\n",
      "├────┼─────────┼───────────────┤\n",
      "│  7 │ max     │       6300    │\n",
      "╘════╧═════════╧═══════════════╛\n"
     ]
    },
    {
     "data": {
      "image/png": "[encoded data removed]",
      "text/plain": [
       "<Figure size 640x480 with 1 Axes>"
      ]
     },
     "metadata": {},
     "output_type": "display_data"
    },
    {
     "data": {
      "text/markdown": [
       "### species - Coluna Categórica"
      ]
     },
     "metadata": {},
     "output_type": "display_data"
    },
    {
     "name": "stdout",
     "output_type": "stream",
     "text": [
      "╒════╤═══════════╤══════════════╕\n",
      "│    │ Coluna    │   Quantidade │\n",
      "╞════╪═══════════╪══════════════╡\n",
      "│  0 │ Adelie    │          152 │\n",
      "├────┼───────────┼──────────────┤\n",
      "│  1 │ Gentoo    │          124 │\n",
      "├────┼───────────┼──────────────┤\n",
      "│  2 │ Chinstrap │           68 │\n",
      "╘════╧═══════════╧══════════════╛\n"
     ]
    },
    {
     "data": {
      "text/markdown": [
       "### island - Coluna Categórica"
      ]
     },
     "metadata": {},
     "output_type": "display_data"
    },
    {
     "name": "stdout",
     "output_type": "stream",
     "text": [
      "╒════╤═══════════╤══════════════╕\n",
      "│    │ Coluna    │   Quantidade │\n",
      "╞════╪═══════════╪══════════════╡\n",
      "│  0 │ Biscoe    │          168 │\n",
      "├────┼───────────┼──────────────┤\n",
      "│  1 │ Dream     │          124 │\n",
      "├────┼───────────┼──────────────┤\n",
      "│  2 │ Torgersen │           52 │\n",
      "╘════╧═══════════╧══════════════╛\n"
     ]
    },
    {
     "data": {
      "text/markdown": [
       "### sex - Coluna Categórica"
      ]
     },
     "metadata": {},
     "output_type": "display_data"
    },
    {
     "name": "stdout",
     "output_type": "stream",
     "text": [
      "╒════╤══════════╤══════════════╕\n",
      "│    │ Coluna   │   Quantidade │\n",
      "╞════╪══════════╪══════════════╡\n",
      "│  0 │ MALE     │          168 │\n",
      "├────┼──────────┼──────────────┤\n",
      "│  1 │ FEMALE   │          165 │\n",
      "╘════╧══════════╧══════════════╛\n"
     ]
    }
   ],
   "source": [
    "df.report()"
   ]
  }
 ],
 "metadata": {
  "kernelspec": {
   "display_name": "Python 3",
   "language": "python",
   "name": "python3"
  },
  "language_info": {
   "codemirror_mode": {
    "name": "ipython",
    "version": 3
   },
   "file_extension": ".py",
   "mimetype": "text/x-python",
   "name": "python",
   "nbconvert_exporter": "python",
   "pygments_lexer": "ipython3",
   "version": "3.11.0"
  }
 },
 "nbformat": 4,
 "nbformat_minor": 2
}
